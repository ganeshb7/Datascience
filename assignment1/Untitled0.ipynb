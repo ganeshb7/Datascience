{
  "nbformat": 4,
  "nbformat_minor": 0,
  "metadata": {
    "colab": {
      "name": "Untitled0.ipynb",
      "provenance": [],
      "collapsed_sections": []
    },
    "kernelspec": {
      "name": "python3",
      "display_name": "Python 3"
    },
    "language_info": {
      "name": "python"
    }
  },
  "cells": [
    {
      "cell_type": "code",
      "execution_count": 29,
      "metadata": {
        "id": "hkAi8m7xQdst"
      },
      "outputs": [],
      "source": [
        "import requests\n",
        "from bs4 import BeautifulSoup\n",
        "import csv\n",
        "import pandas as pd\n",
        "   \n",
        "URL = \"https://www.flipkart.com/search?q=oneplus++mobile&otracker=search&otracker1=search&marketplace=FLIPKART&as-show=off&as=off\"\n",
        "r = requests.get(URL)\n",
        "\n",
        "list1=[] \n",
        "list2=[] \n",
        "list3=[list1,list2]\n",
        "soup = BeautifulSoup(r.content, 'html5lib')\n",
        "\n",
        "table=soup.find_all(class_= \"_4rR01T\")\n",
        "table1=soup.find_all(class_= \"_30jeq3 _1_WHN1\")\n",
        "\n",
        "for i in table:\n",
        "  list1.append(i.get_text())\n",
        "for i in table1:\n",
        "  list2.append(i.get_text())\n",
        "#print(list1)\n",
        "df = pd.DataFrame(list3).transpose()\n",
        "df.columns=['Mobile Names','price']\n",
        "df.to_csv(\"Moblielist.csv\",index=False)\n"
      ]
    },
    {
      "cell_type": "markdown",
      "source": [
        "# New Section"
      ],
      "metadata": {
        "id": "hvSpjIBPS3L-"
      }
    }
  ]
}